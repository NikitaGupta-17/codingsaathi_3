{
 "cells": [
  {
   "cell_type": "code",
   "execution_count": 1,
   "id": "0e6a8df1",
   "metadata": {},
   "outputs": [
    {
     "name": "stdout",
     "output_type": "stream",
     "text": [
      "Requirement already satisfied: opencv-python in c:\\users\\asus\\anaconda3\\lib\\site-packages (4.8.0.74)\n",
      "Requirement already satisfied: numpy>=1.19.3 in c:\\users\\asus\\anaconda3\\lib\\site-packages (from opencv-python) (1.24.3)\n",
      "Note: you may need to restart the kernel to use updated packages.\n"
     ]
    }
   ],
   "source": [
    "pip install opencv-python"
   ]
  },
  {
   "cell_type": "code",
   "execution_count": 2,
   "id": "e780634d",
   "metadata": {},
   "outputs": [],
   "source": [
    "import cv2\n",
    "\n",
    "image1 = cv2.imread('car.jpg')\n",
    "window_name = 'Actual image'\n",
    "cv2.imshow(window_name, image1)"
   ]
  },
  {
   "cell_type": "code",
   "execution_count": 3,
   "id": "bf347462",
   "metadata": {},
   "outputs": [],
   "source": [
    "grey_img = cv2.cvtColor(image1, cv2.COLOR_BGR2GRAY)"
   ]
  },
  {
   "cell_type": "code",
   "execution_count": 4,
   "id": "026d5d4f",
   "metadata": {},
   "outputs": [],
   "source": [
    "invert = cv2.bitwise_not(grey_img)"
   ]
  },
  {
   "cell_type": "code",
   "execution_count": 5,
   "id": "70f80a05",
   "metadata": {},
   "outputs": [],
   "source": [
    "blur = cv2.GaussianBlur(invert, (21, 21), 0)"
   ]
  },
  {
   "cell_type": "code",
   "execution_count": 6,
   "id": "c15f7c79",
   "metadata": {},
   "outputs": [],
   "source": [
    "invertedblur = cv2.bitwise_not(blur)"
   ]
  },
  {
   "cell_type": "code",
   "execution_count": 7,
   "id": "b9ccf012",
   "metadata": {},
   "outputs": [],
   "source": [
    "sketch = cv2.divide(grey_img, invertedblur, scale=256.0)"
   ]
  },
  {
   "cell_type": "code",
   "execution_count": 8,
   "id": "92a783cc",
   "metadata": {},
   "outputs": [
    {
     "data": {
      "text/plain": [
       "-1"
      ]
     },
     "execution_count": 8,
     "metadata": {},
     "output_type": "execute_result"
    }
   ],
   "source": [
    "cv2.imwrite(\"sketch.jpeg\", sketch)\n",
    "image = cv2.imread(\"sketch.jpeg\")\n",
    "window_name ='Sketch image'\n",
    "cv2.imshow(window_name, image)\n",
    "cv2.waitKey(0)"
   ]
  },
  {
   "cell_type": "code",
   "execution_count": null,
   "id": "31cfd6f5",
   "metadata": {},
   "outputs": [],
   "source": []
  }
 ],
 "metadata": {
  "kernelspec": {
   "display_name": "Python 3 (ipykernel)",
   "language": "python",
   "name": "python3"
  },
  "language_info": {
   "codemirror_mode": {
    "name": "ipython",
    "version": 3
   },
   "file_extension": ".py",
   "mimetype": "text/x-python",
   "name": "python",
   "nbconvert_exporter": "python",
   "pygments_lexer": "ipython3",
   "version": "3.9.12"
  }
 },
 "nbformat": 4,
 "nbformat_minor": 5
}
